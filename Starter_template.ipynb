{
  "nbformat": 4,
  "nbformat_minor": 0,
  "metadata": {
    "colab": {
      "provenance": [],
      "include_colab_link": true
    },
    "kernelspec": {
      "name": "python3",
      "display_name": "Python 3"
    },
    "language_info": {
      "name": "python"
    }
  },
  "cells": [
    {
      "cell_type": "markdown",
      "metadata": {
        "id": "view-in-github",
        "colab_type": "text"
      },
      "source": [
        "<a href=\"https://colab.research.google.com/github/AlphabaseLabs/workshop-notebooks/blob/main/Starter_template.ipynb\" target=\"_parent\"><img src=\"https://colab.research.google.com/assets/colab-badge.svg\" alt=\"Open In Colab\"/></a>"
      ]
    },
    {
      "cell_type": "markdown",
      "source": [
        "# L1: Create Agents to Research and Prepare a Quiz\n",
        "\n",
        "In this lesson, you will be introduced to the foundational concepts of multi-agent systems and get an overview of the crewAI framework."
      ],
      "metadata": {
        "id": "C1Dihxsw4mA9"
      }
    },
    {
      "cell_type": "markdown",
      "source": [
        "# Install dependencies for Google Colab"
      ],
      "metadata": {
        "id": "vUCrI8TbO-R_"
      }
    },
    {
      "cell_type": "code",
      "source": [
        "!pip install crewai crewai_tools langchain_openai langchain-community langchain-groq"
      ],
      "metadata": {
        "id": "1zBh4KdiVjqB",
        "collapsed": true
      },
      "execution_count": null,
      "outputs": []
    },
    {
      "cell_type": "markdown",
      "source": [
        "# Import Requirements\n",
        "\n",
        "* Import libraries, APIs and LLM"
      ],
      "metadata": {
        "id": "1aRZ54tgWQcl"
      }
    },
    {
      "cell_type": "code",
      "source": [
        "from crewai import Agent, Task, Crew, LLM\n",
        "from langchain_openai.chat_models import ChatOpenAI"
      ],
      "metadata": {
        "id": "lclHrmGH7PqZ"
      },
      "execution_count": null,
      "outputs": []
    },
    {
      "cell_type": "markdown",
      "source": [
        "\n",
        "# crewAI Tools\n",
        "* [Serper](https://serpapi.com/)\n",
        "\n",
        "## Possible Custom Tools\n",
        "- Load customer data\n",
        "- Tap into previous conversations\n",
        "- Load data from a CRM\n",
        "- Checking existing bug reports\n",
        "- Checking existing feature requests\n",
        "- Checking ongoing tickets\n",
        "- ... and more"
      ],
      "metadata": {
        "id": "k23mlNW37T98"
      }
    },
    {
      "cell_type": "code",
      "source": [
        "from crewai_tools import SerperDevTool"
      ],
      "metadata": {
        "id": "7UF-Hk2tXpky"
      },
      "execution_count": null,
      "outputs": []
    },
    {
      "cell_type": "markdown",
      "source": [
        "# Setup Groq and Serper API Keys\n",
        "\n",
        "## Setting Up Groq API Key\n",
        "\n",
        "Groq provides access to AI models via its API. Follow these steps to get your API key:\n",
        "\n",
        "### Steps:\n",
        "1. Visit [Groq API Dashboard](https://console.groq.com/).\n",
        "\n",
        "2. Sign in or Sign up\n",
        "\n",
        "3. Generate API Key\n",
        "   - Navigate to the **API Keys** section.\n",
        "   - Click **Create New Key**.\n",
        "   - Copy and securely store the generated key.\n"
      ],
      "metadata": {
        "id": "9g4QM_44a85O"
      }
    },
    {
      "cell_type": "markdown",
      "source": [
        "## Setting Up Serper API Key\n",
        "Serper is a search API that allows programmatic access to Google search results.\n",
        "\n",
        "### Steps:\n",
        "1. Visit [Serper API Portal](https://serpapi.com/)\n",
        "2. Sign in or Sign up\n",
        "3. Register if you are a new user. Otherwise, log in with your credentials.\n",
        "4. Generate API Key\n",
        "   - Click Generate API Key.\n",
        "   - Copy and securely store the API key."
      ],
      "metadata": {
        "id": "fRiSU1QfigUm"
      }
    },
    {
      "cell_type": "code",
      "source": [
        "from google.colab import userdata\n",
        "import os\n",
        "\n",
        "os.environ[\"GROQ_API_KEY\"] = userdata.get(\"GROQ_API_KEY\")\n",
        "os.environ[\"SERP_API_KEY\"] = userdata.get(\"SERP_API_KEY\")"
      ],
      "metadata": {
        "id": "Ug24okLMYhXO"
      },
      "execution_count": null,
      "outputs": []
    },
    {
      "cell_type": "code",
      "source": [
        "# llm = ChatOpenAI(\n",
        "#     model=\"llama-3.3-70b-versatile\",\n",
        "#     api_key=GROQ_API_KEY,\n",
        "#     base_url=\"https://api.groq.com/openai/v1\",\n",
        "#     temperature=0.2\n",
        "# )\n",
        "\n",
        "llm = LLM(model=\"groq/llama-3.3-70b-versatile\")"
      ],
      "metadata": {
        "id": "cH9oRuTfZ-gi"
      },
      "execution_count": null,
      "outputs": []
    },
    {
      "cell_type": "markdown",
      "source": [
        "# Create Agents"
      ],
      "metadata": {
        "id": "tx5qtK6Mbzel"
      }
    },
    {
      "cell_type": "markdown",
      "source": [],
      "metadata": {
        "id": "eFFIHR8cloMW"
      }
    },
    {
      "cell_type": "code",
      "source": [
        "# Initialize tools\n",
        "search_tool = SerperDevTool()"
      ],
      "metadata": {
        "id": "nvRvs5sYb6fZ"
      },
      "execution_count": null,
      "outputs": []
    },
    {
      "cell_type": "markdown",
      "source": [
        "# Start Working on your Tool"
      ],
      "metadata": {
        "id": "Dqv9X_9h_dow"
      }
    },
    {
      "cell_type": "code",
      "source": [
        "research_agent = Agent(\n",
        "    role=\"Research Agent\",\n",
        "    goal=\"Find and curate the highest quality educational resources\",\n",
        "    backstory=(\n",
        "        \"A researcher with access to all the educational platforms. \"\n",
        "        \"Expert in quickly evaluating source credibility and \"\n",
        "        \"relevance using advanced AI-powered search techniques.\"\n",
        "    ),\n",
        "    tools=[search_tool],\n",
        "    verbose=True,\n",
        "    llm=llm\n",
        ")\n",
        "\n",
        "summarizer_agent = Agent(\n",
        "    role=\"Learning Content Specialist\",\n",
        "    goal=\"\",\n",
        "    backstory=(\n",
        "    ),\n",
        "    verbose=True,\n",
        "    llm=llm\n",
        ")\n",
        "\n",
        "quiz_master_agent = Agent(\n",
        "    role=\"Assessment Design Expert\",\n",
        "    goal=\"\",\n",
        "    backstory=(\n",
        "    ),\n",
        "    verbose=True,\n",
        "    llm=llm\n",
        ")"
      ],
      "metadata": {
        "id": "U0LZPC6JFVLd"
      },
      "execution_count": null,
      "outputs": []
    },
    {
      "cell_type": "markdown",
      "source": [
        "# Define Tasks"
      ],
      "metadata": {
        "id": "_YyrmQlhf-MC"
      }
    },
    {
      "cell_type": "code",
      "source": [
        "research_task = Task(\n",
        "    description=(\n",
        "        \"Conduct comprehensive search for resources about {topic}. \"\n",
        "        \"Include academic papers, reputable websites, and video content. \"\n",
        "        \"Apply strict quality filters and prioritize most recent authoritative sources.\"\n",
        "    ),\n",
        "    expected_output=(\n",
        "        \"Curated list of resources with:\\n\"\n",
        "        \"- URL\\n- Source type\\n- Key topics covered\\n- Quality rating\\n- Relevance justification\"\n",
        "    ),\n",
        "    agent=research_agent\n",
        ")\n",
        "\n",
        "summarization_task = Task(\n",
        "    description=(\n",
        "    ),\n",
        "    expected_output=(\n",
        "    ),\n",
        "    agent=summarizer_agent,\n",
        "    context=[research_task]\n",
        ")\n",
        "\n",
        "quiz_creation_task = Task(\n",
        "    description=(\n",
        "    ),\n",
        "    expected_output=(\n",
        "    ),\n",
        "    agent=quiz_master_agent,\n",
        "    context=[summarization_task]\n",
        ")"
      ],
      "metadata": {
        "id": "ADkz1kNpoXpW"
      },
      "execution_count": null,
      "outputs": []
    },
    {
      "cell_type": "markdown",
      "source": [
        "# Crew"
      ],
      "metadata": {
        "id": "re7gMQGGojwx"
      }
    },
    {
      "cell_type": "code",
      "source": [
        "study_buddy_crew = Crew(\n",
        "    agents=[research_agent, summarizer_agent, quiz_master_agent],\n",
        "    tasks=[research_task, summarization_task, quiz_creation_task],\n",
        "    verbose=True\n",
        ")"
      ],
      "metadata": {
        "id": "3hlDxVqTgXdF"
      },
      "execution_count": null,
      "outputs": []
    },
    {
      "cell_type": "markdown",
      "source": [
        "# Run Crew"
      ],
      "metadata": {
        "id": "_UDp3AoNgYAE"
      }
    },
    {
      "cell_type": "code",
      "source": [
        "result = study_buddy_crew.kickoff(inputs={'topic': \"\"})"
      ],
      "metadata": {
        "id": "NDGxi4SSo-ge"
      },
      "execution_count": null,
      "outputs": []
    }
  ]
}